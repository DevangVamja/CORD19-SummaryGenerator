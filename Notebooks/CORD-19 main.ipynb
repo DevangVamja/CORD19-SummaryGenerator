{
 "cells": [
  {
   "cell_type": "code",
   "execution_count": 1,
   "metadata": {},
   "outputs": [],
   "source": [
    "import pandas as pd\n",
    "import matplotlib.pyplot as plt\n",
    "from tqdm import tqdm\n",
    "import re\n",
    "import warnings\n",
    "warnings.filterwarnings('ignore')\n",
    "plt.style.use('ggplot')"
   ]
  },
  {
   "cell_type": "code",
   "execution_count": 2,
   "metadata": {},
   "outputs": [],
   "source": [
    "import spacy\n",
    "import en_core_web_sm\n",
    "nlp = spacy.load(\"en_core_web_sm\")"
   ]
  },
  {
   "cell_type": "code",
   "execution_count": 3,
   "metadata": {},
   "outputs": [],
   "source": [
    "df = pd.read_csv(r\"\\covid19_Processed.csv\")\n",
    "# selected relevant features\n",
    "df = pd.DataFrame(df, columns=['abstract','body_text','title'])"
   ]
  },
  {
   "cell_type": "code",
   "execution_count": 4,
   "metadata": {},
   "outputs": [],
   "source": [
    "# defineing the knoledge base with the covid-19 terms and their associated synonyms\n",
    "covid_dict = {\n",
    "    \"COVID-19\": [\"Coronavirus disease 2019\", \"SARS-CoV-2\", \"Novel coronavirus\"],\n",
    "    \"Vaccine\": [\"COVID vaccine\", \"Coronavirus vaccine\", \"SARS-CoV-2 vaccine\"],\n",
    "    \"Face mask\": [\"Mask\", \"Surgical mask\", \"N95 respirator\"],\n",
    "    \"Social distancing\": [\"Physical distancing\", \"Social isolation\", \"Quarantine\"],\n",
    "    \"Hand hygiene\": [\"Hand washing\", \"Hand sanitizing\", \"Hand disinfection\"],\n",
    "    \"Pandemic\": [\"Global health crisis\", \"Outbreak\", \"Epidemic\"],\n",
    "    \"PCR test\": [\"Polymerase chain reaction test\", \"COVID-19 test\", \"Nasal swab test\"],\n",
    "    \"Antibody\": [\"Immunoglobulin\", \"Serology test\", \"Immunity\"],\n",
    "    \"Contact tracing\": [\"Contact investigation\", \"Contact monitoring\", \"Exposure notification\"],\n",
    "    \"Ventilator\": [\"Mechanical ventilator\", \"Breathing machine\", \"Respirator\"],\n",
    "    \"PPE\": [\"Personal protective equipment\", \"Protective gear\", \"Hazmat suit\"],\n",
    "    \"Herd immunity\": [\"Community immunity\", \"Population immunity\", \"Herd protection\"],\n",
    "    \"Lockdown\": [\"Stay-at-home order\", \"Quarantine\", \"Shelter-in-place\"],\n",
    "    \"Asymptomatic\": [\"Silent carrier\", \"Without symptoms\", \"Asymptomatic carrier\"],\n",
    "    \"Isolation\": [\"Self-quarantine\", \"Self-isolation\", \"Medical isolation\"],\n",
    "    \"Mortality rate\": [\"Death rate\", \"Fatality rate\", \"Case fatality rate\"],\n",
    "    \"Incubation period\": [\"Latency period\", \"Asymptomatic period\", \"Symptom-free period\"],\n",
    "    \"Close contact\": [\"Proximate contact\", \"Direct contact\", \"Physical contact\"],\n",
    "    \"Immune response\": [\"Immunological response\", \"Antibody response\", \"Immune system response\"],\n",
    "    \"Essential worker\": [\"Frontline worker\", \"Critical worker\", \"Key worker\"],\n",
    "    \"Superspreader\": [\"Super-spreading event\", \"Outbreak amplifier\", \"Infectious agent\"],\n",
    "    \"Variant\": [\"COVID variant\", \"Coronavirus variant\", \"SARS-CoV-2 variant\"],\n",
    "    \"Booster\": [\"COVID booster\", \"Vaccine booster\", \"Additional dose\"],\n",
    "    \"Long COVID\": [\"Long-haul COVID\", \"Post-acute COVID\", \"Chronic COVID\"],\n",
    "    \"Hybrid work\": [\"Flexible work\", \"Remote work\", \"Virtual work\"],\n",
    "    \"Hazard pay\": [\"Hero pay\", \"Essential pay\", \"Pandemic pay\"],\n",
    "    \"Cytokine storm\": [\"Cytokine release syndrome\", \"Systemic inflammatory response\", \"Hyperinflammation\"],\n",
    "    \"Breakthrough infection\": [\"Vaccine breakthrough\", \"Post-vaccination infection\", \"Vaccine failure\"],\n",
    "    \"Airborne transmission\": [\"Aerosol transmission\", \"Droplet transmission\", \"Respiratory transmission\"],\n",
    "    \"Mental health\": [\"Psychological well-being\", \"Emotional health\", \"Mental wellness\"],\n",
    "    \"Third wave\": [\"COVID surge\", \"Outbreak resurgence\", \"Pandemic rebound\"],\n",
    "    \"Antiviral drug\": [\"COVID treatment\", \"Coronavirus medication\", \"SARS-CoV-2 therapy\"],\n",
    "    \"Digital health pass\": [\"COVID passport\", \"Vaccine passport\", \"Health certificate\"]\n",
    "}"
   ]
  },
  {
   "cell_type": "code",
   "execution_count": 5,
   "metadata": {},
   "outputs": [],
   "source": [
    "# imported libraries for indexing and text matching\n",
    "# from sklearn.feature_extraction.text import TfidfVectorizer\n",
    "# from sklearn.metrics.pairwise import cosine_similarity\n",
    "# import nltk\n",
    "from collections import defaultdict\n",
    "from math import log10\n",
    "\n",
    "# preprocessing\n",
    "# from nltk.tokenize import word_tokenize\n",
    "# from nltk.corpus import stopwords"
   ]
  },
  {
   "cell_type": "code",
   "execution_count": 6,
   "metadata": {},
   "outputs": [],
   "source": [
    "# defining a function to preprocess the text \n",
    "def processed_df(text):\n",
    "    text = re.sub(r'[^a-zA-Z0-9]+', ' ', text)\n",
    "    text = text.lower()\n",
    "    tokens=[]\n",
    "    doc = nlp(text)\n",
    "    for token in doc:\n",
    "        if token.is_stop or token.is_punct or token.is_space or token.like_num or token.like_url or token.like_email:\n",
    "            continue\n",
    "        tokens.append(token.lemma_)\n",
    "    return ' '.join(tokens)"
   ]
  },
  {
   "cell_type": "code",
   "execution_count": 7,
   "metadata": {},
   "outputs": [],
   "source": [
    "# defined a function to preprocess both documents and query\n",
    "def preprocess(text):\n",
    "    text = re.sub(r'[^a-zA-Z0-9]+', ' ', text)\n",
    "    doc = nlp(text)\n",
    "    tokens = []\n",
    "    for token in doc:\n",
    "        if not token.is_stop and not token.is_punct and not token.is_space and not token.like_num and not token.like_url:\n",
    "            tokens.append(token.lemma_.lower())\n",
    "    return tokens"
   ]
  },
  {
   "cell_type": "code",
   "execution_count": 8,
   "metadata": {},
   "outputs": [],
   "source": [
    "# defining a function that returns dictionary word and relevant postings list.\n",
    "def inverted_index(docs):\n",
    "    inverted_index = defaultdict(list)\n",
    "    for doc_id, doc in enumerate(docs):\n",
    "        for token in preprocess(doc):\n",
    "            inverted_index[token].append(doc_id)\n",
    "    return inverted_index"
   ]
  },
  {
   "cell_type": "code",
   "execution_count": 9,
   "metadata": {},
   "outputs": [
    {
     "name": "stderr",
     "output_type": "stream",
     "text": [
      "100%|██████████| 54152/54152 [02:36<00:00, 346.31it/s]\n"
     ]
    }
   ],
   "source": [
    "tqdm.pandas()\n",
    "df['processed_title'] = df['title'].progress_apply(lambda x: processed_df(x))"
   ]
  },
  {
   "cell_type": "code",
   "execution_count": 10,
   "metadata": {},
   "outputs": [],
   "source": [
    "# converted a dataframe into a list\n",
    "docs = df['processed_title'].to_list()\n",
    "inverted_index = inverted_index(docs)"
   ]
  },
  {
   "cell_type": "code",
   "execution_count": 11,
   "metadata": {},
   "outputs": [],
   "source": [
    "# defined a function for document scoring using TF-IDF\n",
    "def rank_docs(query, inverted_index, docs):\n",
    "    scores = defaultdict(float)\n",
    "    query_terms = set(query)\n",
    "    N = len(docs)\n",
    "    max_score = 0\n",
    "\n",
    "    for term in query_terms:\n",
    "        df = len(inverted_index.get(term, []))  # Handle terms not in the index\n",
    "        idf = log10((N / (df + 1)))  # Calculate IDF once per term\n",
    "        for doc_id in inverted_index.get(term, []):\n",
    "            tf = docs[doc_id].count(term)\n",
    "            scores[doc_id] += tf * idf\n",
    "            if scores[doc_id] > max_score:\n",
    "                max_score = scores[doc_id]\n",
    "\n",
    "    # Normalize scores\n",
    "    if max_score > 0:\n",
    "        for doc_id in scores:\n",
    "            scores[doc_id] /= max_score\n",
    "\n",
    "    # Rank documents by score\n",
    "    ranked_docs = sorted(scores.items(), key=lambda x: x[1], reverse=True)\n",
    "    return ranked_docs"
   ]
  },
  {
   "cell_type": "code",
   "execution_count": 12,
   "metadata": {},
   "outputs": [],
   "source": [
    "# defined a function that displays all paper IDs alongside their respective similarity scores\n",
    "def show_article(ranked_docs, df):\n",
    "    if len(ranked_docs) == 0:\n",
    "        print(\"There are no similar documents found.\")\n",
    "    else:\n",
    "        for doc_id, score in ranked_docs:\n",
    "            print(f'Similarity: {score:.4f}  Document: {df.paper_id[doc_id]}')"
   ]
  },
  {
   "cell_type": "code",
   "execution_count": 13,
   "metadata": {},
   "outputs": [],
   "source": [
    "# defined a function to store the top 7 documents (from most similar to least similar) to calculate MRR\n",
    "def store_articles(ranked_docs, df):\n",
    "    if len(ranked_docs) == 0:\n",
    "        return []\n",
    "    else:\n",
    "        return [df.title[doc_id].lower() for doc_id, _ in ranked_docs[:7]]"
   ]
  },
  {
   "cell_type": "code",
   "execution_count": 14,
   "metadata": {},
   "outputs": [],
   "source": [
    "# defined a function that returns an array containing either 1 or 0, where 0 indicates that the document is not relevant and 1 indicates that the document is relevant. \n",
    "def MRR_query(question,ranked_articles_list):\n",
    "    query_words = preprocess(question)\n",
    "    # dictionary for entities in the KB with relative key-words\n",
    "    KB_words = {}\n",
    "    # list to contain all associated names\n",
    "    lst = []\n",
    "\n",
    "    for i in covid_dict.items():\n",
    "        KB_words[i[0]] = preprocess(i[0])\n",
    "    # list for KB words\n",
    "    KB_words_list = []\n",
    "    for i in KB_words.items():\n",
    "        KB_words_list += i[1]\n",
    "    # list to identify the common words between KB and query\n",
    "    common_words = []\n",
    "    for word in query_words:\n",
    "        if word in KB_words_list:\n",
    "            common_words.append(word)\n",
    "    for key, value in KB_words.items():\n",
    "        for i in common_words:\n",
    "            for word in value:\n",
    "                if i == word:\n",
    "                    lst.append([key])\n",
    "    lst.append(covid_dict['COVID-19'])\n",
    "    # itertools to flaten the lists\n",
    "    import itertools\n",
    "    lst = list(itertools.chain(*lst))\n",
    "    processes_KB = [preprocess(i) for i in lst]\n",
    "    processes_KB = list(itertools.chain(*processes_KB))\n",
    "    # stores the positiion of relevant articles for a given query\n",
    "    res = []\n",
    "    \n",
    "    #This chunk of code:\n",
    "        # checks the relevancy of each article based on KB-derived ground truths.\n",
    "        # with a total of 3 (the key word occurrence should at least be 3).\n",
    "    for i in range(len(ranked_articles_list)):\n",
    "        new = ranked_articles_list[i]\n",
    "        new = new.split()\n",
    "        preprocess_doc = []\n",
    "        for i in new:\n",
    "            preprocess_doc.append(preprocess(i))\n",
    "        preprocess_doc = list(itertools.chain(*preprocess_doc))\n",
    "        counts = []\n",
    "\n",
    "        for i in preprocess_doc:\n",
    "            if i in processes_KB:\n",
    "                counts.append(i)\n",
    "\n",
    "        if len(counts) >= 3:\n",
    "            res.append(1)\n",
    "        else:\n",
    "            res.append(0)\n",
    "    return res"
   ]
  },
  {
   "cell_type": "code",
   "execution_count": 15,
   "metadata": {},
   "outputs": [
    {
     "name": "stdout",
     "output_type": "stream",
     "text": [
      "Article  1\n",
      "Similarity score:  1.0\n",
      "Article Title:  Panic and pandemic: narrative review of the literature on the links and risks of panic disorder as a consequence of the SARS-CoV-2 pandemic \n",
      "Answer:  escitalopram, which are first-line treatments for panic disorder, but also hydroxyzine, aiming at anxiety relief. The results reviewed here highlight the importance of considering and further investigating the impact of the current pandemic on the diagnosis and treatment of panic disorder (alone or comorbid with the COVID-19).\n",
      "\n",
      "Article  2\n",
      "Similarity score:  0.5\n",
      "Article Title:  A Digital Therapeutic Intervention Delivering Biofeedback for Panic Attacks (PanicMechanic): Feasibility and Usability Study \n",
      "Answer:  Background: Panic attacks (PAs) are an impairing mental health problem that affects >11% of adults every year. PAs are episodic, and it is difficult to predict when or where they may occur; thus, they are challenging to study and treat.\n",
      "Objective: The aim of this study is to present PanicMechanic, a novel mobile health app that captures heart rate-based data and delivers biofeedback during PAs.\n",
      "In our first analysis, we leveraged this tool to capture profiles of real-world PAs in the largest sample to date (148 attacks from 50 users). In our second analysis, we present the results from a pilot study to assess the usefulness of PanicMechanic as a PA intervention (N=18).\n",
      "The results demonstrate that heart rate fluctuates by about 15 beats per minute during a PA and takes approximately 30 seconds to return to baseline from peak, cycling approximately 4 times during each attack despite the consistently decreasing anxiety ratings. Thoughts about health were the most common trigger and potential lifestyle contributors include slightly worse stress, sleep, and eating habits and slightly less exercise and drug or alcohol consumption than typical.\n",
      "The pilot study revealed that PanicMechanic is largely feasible to use but would be made more so with modifications to the app and the integration of consumer wearables. Similarly, participants found PanicMechanic useful, with 94% (15/16) indicating that they would recommend PanicMechanic to others who have PAs. These results highlight the need for future development and a controlled trial to establish the effectiveness of this digital therapeutic for preventing PAs.\n",
      "\n",
      "Article  3\n",
      "Similarity score:  0.30143860823833357\n",
      "Article Title:  Living in a Region With a Low Level of COVID-19 Infection: Health Belief Toward COVID-19 Vaccination and Intention to Receive a COVID-19 Vaccine in Hong Kong Individuals \n",
      "Answer:  Introduction: Vaccination is vital for controlling the COVID-19 pandemic. Individuals' vaccination intention is a good predictor of vaccine uptake and is influenced by individuals' health belief toward vaccination. Regions with different levels of pandemic severity may present varying effects. This study aimed to determine the influence of health belief on COVID-19 vaccination intention in a region with a low level of COVID-19 infection.\n",
      "The subjects demonstrated moderate levels in all aspects of health belief. Only 28.9% of the subjects indicated an intention to receive a COVID-19 vaccine. After controlling for age, educational level, marital status, and high risk status, the logistic regression analysis indicated that perceived benefits of vaccination (OR = 1.615; CI 95%: 1.443-1.807; P < .001), perceived susceptibility to COVID-19 (OR = 1.130; CI 95%: 1.032-1.237; P = .008), cues to action toward vaccination (OR = 1.212; CI 95%: 1.108-1.326; P < .001), and perceived barriers to vaccination (OR = .696; CI 95%: .641-.756; P < .001) were associated with intention to receive a COVID-19 vaccine.\n",
      "Conclusion: Vaccination campaigns in regions with good control of the pandemic should promote the benefits of vaccination, emphasizing how it can help individuals regain a sense of normalcy in their daily lives and stop the spread of COVID-19. Although the COVID-19 pandemic affects countries worldwide, this study highlights the importance of adopting specific vaccination promotion strategies for regions with different levels of pandemic severity.\n",
      "\n",
      "Article  4\n",
      "Similarity score:  0.30143860823833357\n",
      "Article Title:  The UK Foot and Ankle COVID-19 National (FAlCoN) audit: rate of COVID-19 infection and 30-day mortality in foot and ankle surgery in the UK during the COVID-19 pandemic \n",
      "Answer:  The primary objective was to determine the incidence of COVID-19 infection and 30-day mortality in patients undergoing foot and ankle surgery during the global pandemic. Secondary objectives were to determine if there was a change in infection and complication profile with changes introduced in practice.\n",
      "This UK-based multicentre retrospective national audit studied foot and ankle patients who underwent surgery between 13 January and 31 July 2020, examining time periods pre-UK national lockdown, during lockdown (23 March to 11 May 2020), and post-lockdown. All adult patients undergoing foot and ankle surgery in an operating theatre during the study period were included. A total of 43 centres in England, Scotland, Wales, and Northern Ireland participated. Variables recorded included demographic data, surgical data, comorbidity data, COVID-19 and mortality rates, complications, and infection rates.\n",
      "A total of 6,644 patients were included. Of the operated patients, 0.52% (n = 35) contracted COVID-19. The overall all-cause 30-day mortality rate was 0.41%, however in patients who contracted COVID-19, the mortality rate was 25.71% (n = 9); this was significantly higher for patients undergoing diabetic foot surgery (75%, n = 3 deaths). Matching for age, American Society of Anesthesiologists (ASA) grade, and comorbidities, the odds ratio of mortality with COVID-19 infection was 11.71 (95% confidence interval 1.55 to 88.74; p = 0.017). There were no differences in surgical complications or infection rates prior to or after lockdown, and among patients with and without COVID-19 infection. After lockdown the COVID-19 infection rate was 0.15% and no patient died of COVID-19.\n",
      "COVID-19 infection was rare in foot and ankle patients even at the peak of lockdown. However, there was a significant mortality rate in those who contracted COVID-19. Overall surgical complications and postoperative infection rates remained unchanged during the period of this audit. Patients and treating medical personnel should be aware of the risks to enable informed decisions.\n",
      "\n",
      "Article  5\n",
      "Similarity score:  0.30143860823833357\n",
      "Article Title:  Evaluating the efficacy of a two-site (‘COVID-19’ and ‘COVID-19-free’) trauma and orthopaedic service for the management of hip fractures during the COVID-19 pandemic in the UK \n",
      "Answer:  Hip fracture patients are at higher risk of severe COVID-19 illness, and admission into hospital puts them at further risk. We implemented a two-site orthopaedic trauma service, with 'COVID' and 'COVID-free' hubs, to deliver urgent and infection-controlled trauma care for hip fracture patients, while increasing bed capacity for medical patients during the COVID-19 pandemic.\n",
      "Methods\n",
      "A vacated private elective surgical centre was repurposed to facilitate a two-site, 'COVID' and 'COVID-free', hip fracture service. Patients were screened for COVID-19 infection and either kept at our 'COVID' site or transferred to our 'COVID-free' site. We collected data for 30 days on patient demographics, Clinical Frailty Scale (CFS), Nottingham Hip Fracture Scores (NHFS), time to surgery, COVID-19 status, mortality, and length of stay (LOS).\n",
      "In all, 47 hip fracture patients presented to our service: 12 were admitted to the 'COVID' site and 35 to the 'COVID-free' site. The 'COVID' site cohort were older (mean 86.8 vs 78.5 years, p = 0.0427) and with poorer CFS (p = 0.0147) and NHFS (p = 0.0023) scores. At the 'COVIDfree' site, mean time to surgery was less (29.8 vs 52.8 hours, p = 0.0146), and mean LOS seemed shorter (8.7 vs 12.6 days, p = 0.0592). No patients tested positive for COVID-19 infection while at the 'COVID-free' site. We redirected 74% of our admissions from the base 'COVID' site and created 304 inpatient days' capacity for medical COVID patients.\n",
      "Acquisition of unused elective orthopaedic capacity from the private sector facilitated a twosite trauma service. Patients were treated expeditiously, while successfully achieving strict infection control. We achieved significant gains in medical bed capacity in response to the COVID-19 demand. The authors propose the repurposing of unused elective operating facilities for a two-site 'COVID' and 'COVID-free' model as a safe and effective way of managing hip fracture patients during the pandemic.\n",
      "\n"
     ]
    }
   ],
   "source": [
    "# defined a function that returns top 3 articles with similarity score, article ID, article title, and answer (similar chunk).\n",
    "def present_results(question):\n",
    "    summary = []\n",
    "    query = question\n",
    "    processed_query = preprocess(query)\n",
    "    ranked_docs = rank_docs(processed_query, inverted_index, docs)\n",
    "    if len(ranked_docs) == 0:\n",
    "        print(\"There are no similar documents found.\")\n",
    "    else:\n",
    "        count = 0\n",
    "        for i in ranked_docs:\n",
    "            if count < 5:\n",
    "                print('Article ',count+1)\n",
    "                print('Similarity score: ',i[1])\n",
    "                print('Article Title: ', df.title[i[0]])\n",
    "                print('Answer: ', df.abstract[i[0]])\n",
    "                if i[1] >= 0.5:\n",
    "                    summary.append(df.abstract[i[0]])\n",
    "                print()\n",
    "                count += 1\n",
    "    return summary\n",
    "            \n",
    "top_docs = present_results(\"is there panic because of COVID-19?\")"
   ]
  },
  {
   "cell_type": "code",
   "execution_count": 16,
   "metadata": {},
   "outputs": [
    {
     "data": {
      "text/plain": [
       "['escitalopram, which are first-line treatments for panic disorder, but also hydroxyzine, aiming at anxiety relief. The results reviewed here highlight the importance of considering and further investigating the impact of the current pandemic on the diagnosis and treatment of panic disorder (alone or comorbid with the COVID-19).',\n",
       " 'Background: Panic attacks (PAs) are an impairing mental health problem that affects >11% of adults every year. PAs are episodic, and it is difficult to predict when or where they may occur; thus, they are challenging to study and treat.\\nObjective: The aim of this study is to present PanicMechanic, a novel mobile health app that captures heart rate-based data and delivers biofeedback during PAs.\\nIn our first analysis, we leveraged this tool to capture profiles of real-world PAs in the largest sample to date (148 attacks from 50 users). In our second analysis, we present the results from a pilot study to assess the usefulness of PanicMechanic as a PA intervention (N=18).\\nThe results demonstrate that heart rate fluctuates by about 15 beats per minute during a PA and takes approximately 30 seconds to return to baseline from peak, cycling approximately 4 times during each attack despite the consistently decreasing anxiety ratings. Thoughts about health were the most common trigger and potential lifestyle contributors include slightly worse stress, sleep, and eating habits and slightly less exercise and drug or alcohol consumption than typical.\\nThe pilot study revealed that PanicMechanic is largely feasible to use but would be made more so with modifications to the app and the integration of consumer wearables. Similarly, participants found PanicMechanic useful, with 94% (15/16) indicating that they would recommend PanicMechanic to others who have PAs. These results highlight the need for future development and a controlled trial to establish the effectiveness of this digital therapeutic for preventing PAs.']"
      ]
     },
     "execution_count": 16,
     "metadata": {},
     "output_type": "execute_result"
    }
   ],
   "source": [
    "top_docs"
   ]
  },
  {
   "cell_type": "code",
   "execution_count": 17,
   "metadata": {},
   "outputs": [],
   "source": [
    "combined_text = \" \".join(top_docs)"
   ]
  },
  {
   "cell_type": "code",
   "execution_count": 18,
   "metadata": {},
   "outputs": [],
   "source": [
    "df = df.sample(n=3000, random_state=69)"
   ]
  },
  {
   "cell_type": "code",
   "execution_count": 19,
   "metadata": {},
   "outputs": [
    {
     "data": {
      "text/html": [
       "<div>\n",
       "<style scoped>\n",
       "    .dataframe tbody tr th:only-of-type {\n",
       "        vertical-align: middle;\n",
       "    }\n",
       "\n",
       "    .dataframe tbody tr th {\n",
       "        vertical-align: top;\n",
       "    }\n",
       "\n",
       "    .dataframe thead th {\n",
       "        text-align: right;\n",
       "    }\n",
       "</style>\n",
       "<table border=\"1\" class=\"dataframe\">\n",
       "  <thead>\n",
       "    <tr style=\"text-align: right;\">\n",
       "      <th></th>\n",
       "      <th>target_text</th>\n",
       "      <th>input_text</th>\n",
       "    </tr>\n",
       "  </thead>\n",
       "  <tbody>\n",
       "    <tr>\n",
       "      <th>26624</th>\n",
       "      <td> Aging is associated with increasing severity...</td>\n",
       "      <td>A new zoonotic disease due to infection by a c...</td>\n",
       "    </tr>\n",
       "    <tr>\n",
       "      <th>31362</th>\n",
       "      <td>A model to predict the relative levels of resp...</td>\n",
       "      <td>In December 2019, physicians in Wuhan, China, ...</td>\n",
       "    </tr>\n",
       "    <tr>\n",
       "      <th>53059</th>\n",
       "      <td>A Japanese man suffered from acute respiratory...</td>\n",
       "      <td>Genus Orthoreovirus is one of 15 current gener...</td>\n",
       "    </tr>\n",
       "    <tr>\n",
       "      <th>52267</th>\n",
       "      <td>The current diagnosis of severe acute respirat...</td>\n",
       "      <td>Severe acute respiratory syndrome (SARS) cause...</td>\n",
       "    </tr>\n",
       "    <tr>\n",
       "      <th>28131</th>\n",
       "      <td>In the age of rapid technological advancement ...</td>\n",
       "      <td>Global supply chains are complex multi-echelon...</td>\n",
       "    </tr>\n",
       "  </tbody>\n",
       "</table>\n",
       "</div>"
      ],
      "text/plain": [
       "                                             target_text  \\\n",
       "26624   Aging is associated with increasing severity...   \n",
       "31362  A model to predict the relative levels of resp...   \n",
       "53059  A Japanese man suffered from acute respiratory...   \n",
       "52267  The current diagnosis of severe acute respirat...   \n",
       "28131  In the age of rapid technological advancement ...   \n",
       "\n",
       "                                              input_text  \n",
       "26624  A new zoonotic disease due to infection by a c...  \n",
       "31362  In December 2019, physicians in Wuhan, China, ...  \n",
       "53059  Genus Orthoreovirus is one of 15 current gener...  \n",
       "52267  Severe acute respiratory syndrome (SARS) cause...  \n",
       "28131  Global supply chains are complex multi-echelon...  "
      ]
     },
     "execution_count": 19,
     "metadata": {},
     "output_type": "execute_result"
    }
   ],
   "source": [
    "# taking a subset of the data\n",
    "df = pd.DataFrame(df, columns=['abstract','body_text'])\n",
    "df = df.rename(columns={'abstract':'target_text', 'body_text':'input_text'})\n",
    "df.head()"
   ]
  },
  {
   "cell_type": "code",
   "execution_count": 20,
   "metadata": {},
   "outputs": [
    {
     "data": {
      "text/html": [
       "<div>\n",
       "<style scoped>\n",
       "    .dataframe tbody tr th:only-of-type {\n",
       "        vertical-align: middle;\n",
       "    }\n",
       "\n",
       "    .dataframe tbody tr th {\n",
       "        vertical-align: top;\n",
       "    }\n",
       "\n",
       "    .dataframe thead th {\n",
       "        text-align: right;\n",
       "    }\n",
       "</style>\n",
       "<table border=\"1\" class=\"dataframe\">\n",
       "  <thead>\n",
       "    <tr style=\"text-align: right;\">\n",
       "      <th></th>\n",
       "      <th>target_text</th>\n",
       "      <th>input_text</th>\n",
       "    </tr>\n",
       "  </thead>\n",
       "  <tbody>\n",
       "    <tr>\n",
       "      <th>0</th>\n",
       "      <td> Aging is associated with increasing severity...</td>\n",
       "      <td>A new zoonotic disease due to infection by a c...</td>\n",
       "    </tr>\n",
       "    <tr>\n",
       "      <th>1</th>\n",
       "      <td>A model to predict the relative levels of resp...</td>\n",
       "      <td>In December 2019, physicians in Wuhan, China, ...</td>\n",
       "    </tr>\n",
       "    <tr>\n",
       "      <th>2</th>\n",
       "      <td>A Japanese man suffered from acute respiratory...</td>\n",
       "      <td>Genus Orthoreovirus is one of 15 current gener...</td>\n",
       "    </tr>\n",
       "    <tr>\n",
       "      <th>3</th>\n",
       "      <td>The current diagnosis of severe acute respirat...</td>\n",
       "      <td>Severe acute respiratory syndrome (SARS) cause...</td>\n",
       "    </tr>\n",
       "    <tr>\n",
       "      <th>4</th>\n",
       "      <td>In the age of rapid technological advancement ...</td>\n",
       "      <td>Global supply chains are complex multi-echelon...</td>\n",
       "    </tr>\n",
       "    <tr>\n",
       "      <th>...</th>\n",
       "      <td>...</td>\n",
       "      <td>...</td>\n",
       "    </tr>\n",
       "    <tr>\n",
       "      <th>2994</th>\n",
       "      <td>pre-existing health condition of overweight/ob...</td>\n",
       "      <td>23 24 25 26 J o u r n a l P r e -p r o o f dur...</td>\n",
       "    </tr>\n",
       "    <tr>\n",
       "      <th>2995</th>\n",
       "      <td>In COVID-19, the mechanism of PRES is most lik...</td>\n",
       "      <td>A 66-year-old woman presented to the Emergency...</td>\n",
       "    </tr>\n",
       "    <tr>\n",
       "      <th>2996</th>\n",
       "      <td>To the Editor-In 2020, the coronavirus disease...</td>\n",
       "      <td>epidemic raged around the world. As of Februar...</td>\n",
       "    </tr>\n",
       "    <tr>\n",
       "      <th>2997</th>\n",
       "      <td>Pembrolizumab (9) Nivolumab/Ipilimumab (6) Ipi...</td>\n",
       "      <td>https://orcid.org/0000-0002-0502-7742 Thierry ...</td>\n",
       "    </tr>\n",
       "    <tr>\n",
       "      <th>2998</th>\n",
       "      <td>127 Besides, comorbidities were classified acc...</td>\n",
       "      <td>31 Gender influences clinical presentations, d...</td>\n",
       "    </tr>\n",
       "  </tbody>\n",
       "</table>\n",
       "<p>2999 rows × 2 columns</p>\n",
       "</div>"
      ],
      "text/plain": [
       "                                            target_text  \\\n",
       "0      Aging is associated with increasing severity...   \n",
       "1     A model to predict the relative levels of resp...   \n",
       "2     A Japanese man suffered from acute respiratory...   \n",
       "3     The current diagnosis of severe acute respirat...   \n",
       "4     In the age of rapid technological advancement ...   \n",
       "...                                                 ...   \n",
       "2994  pre-existing health condition of overweight/ob...   \n",
       "2995  In COVID-19, the mechanism of PRES is most lik...   \n",
       "2996  To the Editor-In 2020, the coronavirus disease...   \n",
       "2997  Pembrolizumab (9) Nivolumab/Ipilimumab (6) Ipi...   \n",
       "2998  127 Besides, comorbidities were classified acc...   \n",
       "\n",
       "                                             input_text  \n",
       "0     A new zoonotic disease due to infection by a c...  \n",
       "1     In December 2019, physicians in Wuhan, China, ...  \n",
       "2     Genus Orthoreovirus is one of 15 current gener...  \n",
       "3     Severe acute respiratory syndrome (SARS) cause...  \n",
       "4     Global supply chains are complex multi-echelon...  \n",
       "...                                                 ...  \n",
       "2994  23 24 25 26 J o u r n a l P r e -p r o o f dur...  \n",
       "2995  A 66-year-old woman presented to the Emergency...  \n",
       "2996  epidemic raged around the world. As of Februar...  \n",
       "2997  https://orcid.org/0000-0002-0502-7742 Thierry ...  \n",
       "2998  31 Gender influences clinical presentations, d...  \n",
       "\n",
       "[2999 rows x 2 columns]"
      ]
     },
     "execution_count": 20,
     "metadata": {},
     "output_type": "execute_result"
    }
   ],
   "source": [
    "df['target_len'] = df['target_text'].apply(lambda x : len(x))\n",
    "df['input_len'] = df['input_text'].apply(lambda x : len(x))\n",
    "df['diff_len'] = df['input_len'] - df['target_len']\n",
    "df_temp = df[df['diff_len'] < 0]\n",
    "df_temp2 = df[df['diff_len'] > 0]\n",
    "df_temp = df_temp[df_temp['input_len'] > 200]\n",
    "df_temp.columns = ['input_text','target_text','input_len','target_len','diff_len']\n",
    "df = pd.concat([df_temp2,df_temp], ignore_index=True)\n",
    "df = df.drop('diff_len', axis=1)\n",
    "df = df.drop('target_len', axis=1)\n",
    "df = df.drop('input_len', axis=1)\n",
    "df"
   ]
  },
  {
   "cell_type": "code",
   "execution_count": 21,
   "metadata": {},
   "outputs": [],
   "source": [
    "# capping the word count for input and target text\n",
    "# df['target_text'] = df['target_text'].apply(lambda x: x[:600])\n",
    "# df['input_text'] = df['input_text'].apply(lambda x: x[:2500])"
   ]
  },
  {
   "cell_type": "code",
   "execution_count": 22,
   "metadata": {},
   "outputs": [
    {
     "data": {
      "text/plain": [
       "((2099, 2), (900, 2))"
      ]
     },
     "execution_count": 22,
     "metadata": {},
     "output_type": "execute_result"
    }
   ],
   "source": [
    "from sklearn.model_selection import train_test_split\n",
    "train_df, test_df = train_test_split(df,test_size=0.3)\n",
    "train_df.shape , test_df.shape\n"
   ]
  },
  {
   "cell_type": "code",
   "execution_count": 27,
   "metadata": {},
   "outputs": [],
   "source": [
    "# import torch\n",
    "from simpletransformers.seq2seq import Seq2SeqModel,Seq2SeqArgs\n",
    "\n",
    "model_args = Seq2SeqArgs()\n",
    "# best so far epoch =14, train_loss = 2.0117043143226985, test = 2.7396971384684243}\n",
    "model_args.num_train_epochs = 8\n",
    "model_args.no_save = False\n",
    "model_args.evaluate_during_training = True\n",
    "model_args.evaluate_during_training_verbose = True\n",
    "model_args.overwrite_output_dir = True\n",
    "model_args.max_length = 600\n",
    "\n",
    "# Additions\n",
    "model_args.early_stopping = True\n",
    "model_args.early_stopping_metric = \"eval_loss\"\n",
    "model_args.early_stopping_patience = 3\n",
    "model_args.learning_rate = 2e-5\n",
    "model_args.gradient_accumulation_steps = 4\n",
    "model_args.weight_decay = 0.01\n",
    "model_args.save_steps = 500\n",
    "model_args.save_total_limit = 2\n",
    "model_args.evaluation_strategy = \"steps\"\n",
    "model_args.eval_steps = 500\n",
    "model_args.fp16 = True\n",
    "model_args.warmup_ratio = 0.1\n",
    "model_args.seed = 42\n",
    "\n",
    "# Initialize model\n",
    "model = Seq2SeqModel(\n",
    "    encoder_decoder_type=\"bart\",\n",
    "    encoder_decoder_name=\"facebook/bart-large\",\n",
    "    args=model_args,\n",
    "    use_cuda=True,\n",
    ")\n",
    "\n",
    "# model_args = Seq2SeqArgs()\n",
    "# model_args.num_train_epochs = 10\n",
    "# model_args.no_save = False\n",
    "# model_args.evaluate_generated_text = True\n",
    "# model_args.evaluate_during_training = True\n",
    "# model_args.evaluate_during_training_verbose = True\n",
    "# model_args.per_device_train_batch_size = 8\n",
    "# model_args.overwrite_output_dir = True\n",
    "# model_args.max_length = 600\n",
    "\n",
    "# # Additions\n",
    "# model_args.early_stopping = True\n",
    "# model_args.early_stopping_metric = \"eval_loss\"\n",
    "# model_args.early_stopping_patience = 3\n",
    "# model_args.learning_rate = 2e-5\n",
    "# model_args.gradient_accumulation_steps = 4\n",
    "# model_args.weight_decay = 0.01\n",
    "# model_args.save_steps = 500\n",
    "# model_args.save_total_limit = 2\n",
    "# model_args.evaluation_strategy = \"steps\"\n",
    "# model_args.eval_steps = 500\n",
    "# model_args.fp16 = True\n",
    "# model_args.warmup_ratio = 0.1\n",
    "# model_args.seed = 42\n",
    "\n",
    "# # Initialize model\n",
    "# model = Seq2SeqModel(\n",
    "#     encoder_decoder_type=\"bart\",\n",
    "#     encoder_decoder_name=\"facebook/bart-large\",\n",
    "#     args=model_args,\n",
    "#     use_cuda=True,\n",
    "# )"
   ]
  },
  {
   "cell_type": "code",
   "execution_count": 28,
   "metadata": {},
   "outputs": [
    {
     "data": {
      "application/vnd.jupyter.widget-view+json": {
       "model_id": "88c2bc9907a14d6dbb5c848b10b171b0",
       "version_major": 2,
       "version_minor": 0
      },
      "text/plain": [
       "  0%|          | 0/2099 [00:00<?, ?it/s]"
      ]
     },
     "metadata": {},
     "output_type": "display_data"
    },
    {
     "data": {
      "application/vnd.jupyter.widget-view+json": {
       "model_id": "11c10f40951647bc965010a90a9b9cad",
       "version_major": 2,
       "version_minor": 0
      },
      "text/plain": [
       "Epoch:   0%|          | 0/8 [00:00<?, ?it/s]"
      ]
     },
     "metadata": {},
     "output_type": "display_data"
    },
    {
     "data": {
      "application/vnd.jupyter.widget-view+json": {
       "model_id": "266726bd51bb42228433d17d5c29770d",
       "version_major": 2,
       "version_minor": 0
      },
      "text/plain": [
       "Running Epoch 1 of 8:   0%|          | 0/263 [00:00<?, ?it/s]"
      ]
     },
     "metadata": {},
     "output_type": "display_data"
    },
    {
     "data": {
      "application/vnd.jupyter.widget-view+json": {
       "model_id": "2460ff06b99a448abe140aaa06a3d55f",
       "version_major": 2,
       "version_minor": 0
      },
      "text/plain": [
       "  0%|          | 0/900 [00:00<?, ?it/s]"
      ]
     },
     "metadata": {},
     "output_type": "display_data"
    },
    {
     "data": {
      "application/vnd.jupyter.widget-view+json": {
       "model_id": "bd944f97f800408fb8d446352db19bb5",
       "version_major": 2,
       "version_minor": 0
      },
      "text/plain": [
       "Running Epoch 2 of 8:   0%|          | 0/263 [00:00<?, ?it/s]"
      ]
     },
     "metadata": {},
     "output_type": "display_data"
    },
    {
     "data": {
      "application/vnd.jupyter.widget-view+json": {
       "model_id": "a0958472043f4a2ea41731d57059f748",
       "version_major": 2,
       "version_minor": 0
      },
      "text/plain": [
       "  0%|          | 0/900 [00:00<?, ?it/s]"
      ]
     },
     "metadata": {},
     "output_type": "display_data"
    },
    {
     "data": {
      "application/vnd.jupyter.widget-view+json": {
       "model_id": "9cc6a847f4574edbb17c5c6f8ca1904a",
       "version_major": 2,
       "version_minor": 0
      },
      "text/plain": [
       "Running Epoch 3 of 8:   0%|          | 0/263 [00:00<?, ?it/s]"
      ]
     },
     "metadata": {},
     "output_type": "display_data"
    },
    {
     "data": {
      "application/vnd.jupyter.widget-view+json": {
       "model_id": "a5de83849af849ab8dcec02fb562df64",
       "version_major": 2,
       "version_minor": 0
      },
      "text/plain": [
       "  0%|          | 0/900 [00:00<?, ?it/s]"
      ]
     },
     "metadata": {},
     "output_type": "display_data"
    },
    {
     "data": {
      "application/vnd.jupyter.widget-view+json": {
       "model_id": "d406311420b749278b39c8a20b26d03f",
       "version_major": 2,
       "version_minor": 0
      },
      "text/plain": [
       "Running Epoch 4 of 8:   0%|          | 0/263 [00:00<?, ?it/s]"
      ]
     },
     "metadata": {},
     "output_type": "display_data"
    },
    {
     "data": {
      "application/vnd.jupyter.widget-view+json": {
       "model_id": "6706735c45314e71a76dff45c314dcdb",
       "version_major": 2,
       "version_minor": 0
      },
      "text/plain": [
       "  0%|          | 0/900 [00:00<?, ?it/s]"
      ]
     },
     "metadata": {},
     "output_type": "display_data"
    },
    {
     "data": {
      "application/vnd.jupyter.widget-view+json": {
       "model_id": "72162e7570874b3899e37cb0d318db63",
       "version_major": 2,
       "version_minor": 0
      },
      "text/plain": [
       "Running Epoch 5 of 8:   0%|          | 0/263 [00:00<?, ?it/s]"
      ]
     },
     "metadata": {},
     "output_type": "display_data"
    },
    {
     "data": {
      "application/vnd.jupyter.widget-view+json": {
       "model_id": "c0d42e9d0b884f45b5893da1a0353fd9",
       "version_major": 2,
       "version_minor": 0
      },
      "text/plain": [
       "  0%|          | 0/900 [00:00<?, ?it/s]"
      ]
     },
     "metadata": {},
     "output_type": "display_data"
    },
    {
     "data": {
      "application/vnd.jupyter.widget-view+json": {
       "model_id": "e595bf5e98bd41ca91c1fd1175f3c288",
       "version_major": 2,
       "version_minor": 0
      },
      "text/plain": [
       "Running Epoch 6 of 8:   0%|          | 0/263 [00:00<?, ?it/s]"
      ]
     },
     "metadata": {},
     "output_type": "display_data"
    },
    {
     "data": {
      "application/vnd.jupyter.widget-view+json": {
       "model_id": "4174c273c818426bac8510ab6a5dac1e",
       "version_major": 2,
       "version_minor": 0
      },
      "text/plain": [
       "  0%|          | 0/900 [00:00<?, ?it/s]"
      ]
     },
     "metadata": {},
     "output_type": "display_data"
    },
    {
     "data": {
      "application/vnd.jupyter.widget-view+json": {
       "model_id": "d3199256c8a24233bfb69b571037f68a",
       "version_major": 2,
       "version_minor": 0
      },
      "text/plain": [
       "Running Epoch 7 of 8:   0%|          | 0/263 [00:00<?, ?it/s]"
      ]
     },
     "metadata": {},
     "output_type": "display_data"
    },
    {
     "data": {
      "application/vnd.jupyter.widget-view+json": {
       "model_id": "a5e2ee8c4e8a40cb851cf715e01605ab",
       "version_major": 2,
       "version_minor": 0
      },
      "text/plain": [
       "  0%|          | 0/900 [00:00<?, ?it/s]"
      ]
     },
     "metadata": {},
     "output_type": "display_data"
    },
    {
     "data": {
      "application/vnd.jupyter.widget-view+json": {
       "model_id": "10392a35d10640108287175e51f98f68",
       "version_major": 2,
       "version_minor": 0
      },
      "text/plain": [
       "Running Epoch 8 of 8:   0%|          | 0/263 [00:00<?, ?it/s]"
      ]
     },
     "metadata": {},
     "output_type": "display_data"
    },
    {
     "data": {
      "application/vnd.jupyter.widget-view+json": {
       "model_id": "4452a1ec830f4c3a9eaf45c95125265f",
       "version_major": 2,
       "version_minor": 0
      },
      "text/plain": [
       "  0%|          | 0/900 [00:00<?, ?it/s]"
      ]
     },
     "metadata": {},
     "output_type": "display_data"
    },
    {
     "data": {
      "text/plain": [
       "(520,\n",
       " {'global_step': [65, 130, 195, 260, 325, 390, 455, 520],\n",
       "  'eval_loss': [3.497585799958971,\n",
       "   3.101017713546753,\n",
       "   2.9745607641008167,\n",
       "   2.8663009802500405,\n",
       "   2.8092182212405734,\n",
       "   2.7979040675693088,\n",
       "   2.7773081991407604,\n",
       "   2.774947510825263],\n",
       "  'train_loss': [5.522524356842041,\n",
       "   3.731376886367798,\n",
       "   3.378046989440918,\n",
       "   2.7547214031219482,\n",
       "   2.445103645324707,\n",
       "   3.1114654541015625,\n",
       "   2.6790664196014404,\n",
       "   3.1184778213500977]})"
      ]
     },
     "execution_count": 28,
     "metadata": {},
     "output_type": "execute_result"
    }
   ],
   "source": [
    "model.train_model(train_df, eval_data=test_df)"
   ]
  },
  {
   "cell_type": "code",
   "execution_count": 30,
   "metadata": {},
   "outputs": [],
   "source": [
    "import torch\n",
    "torch.save(model, 'model.pkl')"
   ]
  },
  {
   "cell_type": "code",
   "execution_count": 29,
   "metadata": {},
   "outputs": [
    {
     "data": {
      "application/vnd.jupyter.widget-view+json": {
       "model_id": "608fc4e8e0ae4e8aa485d993e87e97c2",
       "version_major": 2,
       "version_minor": 0
      },
      "text/plain": [
       "  0%|          | 0/2099 [00:00<?, ?it/s]"
      ]
     },
     "metadata": {},
     "output_type": "display_data"
    },
    {
     "data": {
      "application/vnd.jupyter.widget-view+json": {
       "model_id": "d5688432b423423ca555f5f6d36be905",
       "version_major": 2,
       "version_minor": 0
      },
      "text/plain": [
       "Running Evaluation:   0%|          | 0/21 [00:00<?, ?it/s]"
      ]
     },
     "metadata": {},
     "output_type": "display_data"
    },
    {
     "data": {
      "application/vnd.jupyter.widget-view+json": {
       "model_id": "fc5f110dc4bc483a9ef3e2cf8ed6270d",
       "version_major": 2,
       "version_minor": 0
      },
      "text/plain": [
       "  0%|          | 0/900 [00:00<?, ?it/s]"
      ]
     },
     "metadata": {},
     "output_type": "display_data"
    },
    {
     "data": {
      "application/vnd.jupyter.widget-view+json": {
       "model_id": "b9f10ad7b69249b2a0310e265c143ed9",
       "version_major": 2,
       "version_minor": 0
      },
      "text/plain": [
       "Running Evaluation:   0%|          | 0/9 [00:00<?, ?it/s]"
      ]
     },
     "metadata": {},
     "output_type": "display_data"
    },
    {
     "data": {
      "text/plain": [
       "{'eval_loss': 2.774947510825263}"
      ]
     },
     "execution_count": 29,
     "metadata": {},
     "output_type": "execute_result"
    }
   ],
   "source": [
    "print(model.eval_model(train_df))\n",
    "print(model.eval_model(test_df))"
   ]
  },
  {
   "cell_type": "code",
   "execution_count": null,
   "metadata": {},
   "outputs": [],
   "source": [
    "# print(model.predict([combined_text]))"
   ]
  },
  {
   "cell_type": "code",
   "execution_count": 31,
   "metadata": {},
   "outputs": [
    {
     "data": {
      "image/png": "[encoded data removed]",
      "text/plain": [
       "<Figure size 640x480 with 1 Axes>"
      ]
     },
     "metadata": {},
     "output_type": "display_data"
    }
   ],
   "source": [
    "import matplotlib.pyplot as plt\n",
    "\n",
    "\n",
    "dict1 = {'eval_loss': [3.497585799958971,\n",
    "   3.101017713546753,\n",
    "   2.9745607641008167,\n",
    "   2.8663009802500405,\n",
    "   2.8092182212405734,\n",
    "   2.7979040675693088,\n",
    "   2.7773081991407604,\n",
    "   2.774947510825263],\n",
    "  'train_loss': [5.522524356842041,\n",
    "   3.731376886367798,\n",
    "   3.378046989440918,\n",
    "   2.7547214031219482,\n",
    "   2.445103645324707,\n",
    "   3.1114654541015625,\n",
    "   2.6790664196014404,\n",
    "   3.1184778213500977]}\n",
    "\n",
    "epochs = [1, 2, 3, 4, 5, 6, 7, 8]\n",
    "eval_loss = dict1['eval_loss']\n",
    "train_loss = dict1['train_loss']\n",
    "\n",
    "plt.plot(epochs , train_loss , 'g-o' , label = 'Training Loss')\n",
    "plt.plot(epochs , eval_loss , 'r-o' , label = 'Testing Loss')\n",
    "plt.title('BART Training & Testing Loss')\n",
    "plt.legend()\n",
    "plt.xlabel(\"Epochs\")\n",
    "plt.ylabel(\"Loss\")\n",
    "plt.show()"
   ]
  },
  {
   "cell_type": "code",
   "execution_count": null,
   "metadata": {},
   "outputs": [],
   "source": []
  }
 ],
 "metadata": {
  "kernelspec": {
   "display_name": "base",
   "language": "python",
   "name": "python3"
  },
  "language_info": {
   "codemirror_mode": {
    "name": "ipython",
    "version": 3
   },
   "file_extension": ".py",
   "mimetype": "text/x-python",
   "name": "python",
   "nbconvert_exporter": "python",
   "pygments_lexer": "ipython3",
   "version": "3.12.3"
  }
 },
 "nbformat": 4,
 "nbformat_minor": 2
}
